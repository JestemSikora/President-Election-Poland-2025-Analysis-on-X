{
 "cells": [
  {
   "cell_type": "code",
   "execution_count": null,
   "id": "0fb43fa3",
   "metadata": {},
   "outputs": [
    {
     "name": "stdout",
     "output_type": "stream",
     "text": [
      "1.6.1\n"
     ]
    }
   ],
   "source": [
    "# Wywołanie bibliotek\n",
    "import pandas as pd\n",
    "import sklearn\n",
    "from sklearn.model_selection import train_test_split\n",
    "from sklearn.feature_extraction.text import CountVectorizer\n",
    "import matplotlib.pyplot as plt\n",
    "\n",
    "\n"
   ]
  },
  {
   "cell_type": "markdown",
   "id": "b378a3dc",
   "metadata": {},
   "source": [
    "Pierwszym krokiem jest pobranie danych z X za pomocą biblioteki twikit oraz załadowanie ich do Pandas"
   ]
  },
  {
   "cell_type": "code",
   "execution_count": 14,
   "id": "a8770c26",
   "metadata": {},
   "outputs": [
    {
     "data": {
      "text/html": [
       "<div>\n",
       "<style scoped>\n",
       "    .dataframe tbody tr th:only-of-type {\n",
       "        vertical-align: middle;\n",
       "    }\n",
       "\n",
       "    .dataframe tbody tr th {\n",
       "        vertical-align: top;\n",
       "    }\n",
       "\n",
       "    .dataframe thead th {\n",
       "        text-align: right;\n",
       "    }\n",
       "</style>\n",
       "<table border=\"1\" class=\"dataframe\">\n",
       "  <thead>\n",
       "    <tr style=\"text-align: right;\">\n",
       "      <th></th>\n",
       "      <th>Name</th>\n",
       "      <th>Text</th>\n",
       "      <th>Retweets</th>\n",
       "      <th>Likes</th>\n",
       "      <th>Date</th>\n",
       "    </tr>\n",
       "  </thead>\n",
       "  <tbody>\n",
       "    <tr>\n",
       "      <th>0</th>\n",
       "      <td>Maja 🦋</td>\n",
       "      <td>PiSiory ❗ Patałachy ❗ Szmaciarze ❗ Mam dla was, dwie wiadomości ⁉️  Złą ❗ bo Rafał Trzaskowski wygrywa w I turze 💪🤣  I drugą Złą ❗ Kończymy z Pisem 💪🤣  Prezydentem RP 2025 Rafał Trzaskowski ✌️🇵🇱 🥰 ♥️  Niedziela, 18 maja 2025 ! Głosujemy !!!  #Trzaskowski2025 https://t.co/nakyhPCeeU</td>\n",
       "      <td>45</td>\n",
       "      <td>132</td>\n",
       "      <td>NaN</td>\n",
       "    </tr>\n",
       "    <tr>\n",
       "      <th>1</th>\n",
       "      <td>Marek Markowski</td>\n",
       "      <td>Jak zablokować #RelokacjaTuska ? To proste wygrać wybory prezydenckie 2025 a następnie przyśpieszone wybory parlamentarne. Tusk, Bodnar, Giertych, Hołownia do więzienia i ogłaszamy koniec komuny w Polsce. https://t.co/02XQAcsEdG</td>\n",
       "      <td>878</td>\n",
       "      <td>3159</td>\n",
       "      <td>NaN</td>\n",
       "    </tr>\n",
       "    <tr>\n",
       "      <th>2</th>\n",
       "      <td>Krysia</td>\n",
       "      <td>Taką mamy rzeczywistość- Polska 2025 z prezydentem Rafałem Trzaskowskim ✌️🇵🇱. 18maja 2025 głosujemy i wybieramy prezydenta Polski🇵🇱 https://t.co/JXhu6xldQe</td>\n",
       "      <td>12</td>\n",
       "      <td>22</td>\n",
       "      <td>NaN</td>\n",
       "    </tr>\n",
       "    <tr>\n",
       "      <th>3</th>\n",
       "      <td>Rafał Gładysz ♠️♥️♣️♦️</td>\n",
       "      <td>Moje wymarzone wybory prezydenckie 2025? Do drugiej rundy wchodzą @SlawomirMentzen i @K_Stanowski i o fotel prezydenta grają jeden na jednego w pokera w transmitowanym przez wszystkie telewizje pojedynku 😎  A potem ten, który wygra, od razu po zaprzysiężeniu legalizuje pokera w https://t.co/JNUYXfSYDs</td>\n",
       "      <td>15</td>\n",
       "      <td>843</td>\n",
       "      <td>NaN</td>\n",
       "    </tr>\n",
       "    <tr>\n",
       "      <th>4</th>\n",
       "      <td>🇵🇱Polka🇵🇱</td>\n",
       "      <td>18 maja 2025 r wszyscy na wybory 🗳️ #Prezydent2025 @NawrockiKn 🇵🇱♥️ https://t.co/tVKtyJkbc7</td>\n",
       "      <td>98</td>\n",
       "      <td>237</td>\n",
       "      <td>NaN</td>\n",
       "    </tr>\n",
       "    <tr>\n",
       "      <th>...</th>\n",
       "      <td>...</td>\n",
       "      <td>...</td>\n",
       "      <td>...</td>\n",
       "      <td>...</td>\n",
       "      <td>...</td>\n",
       "    </tr>\n",
       "    <tr>\n",
       "      <th>877</th>\n",
       "      <td>Nic o mnie</td>\n",
       "      <td>@ciorka77 jeszcze trzeba wygrać wybory prezydenckie  ale do tego jeszcze miesiąc, niecały</td>\n",
       "      <td>Sun Apr 27 06:20:47 +0000 2025</td>\n",
       "      <td>0</td>\n",
       "      <td>3.0</td>\n",
       "    </tr>\n",
       "    <tr>\n",
       "      <th>878</th>\n",
       "      <td>Jan Kowalski</td>\n",
       "      <td>@donaldtusk Niedługo wybory prezydenckie. Może lepiej będzie wysłać tam Rafała. Zrobi się kilka zdjęć, jakieś nagranie.</td>\n",
       "      <td>Mon Apr 21 19:46:35 +0000 2025</td>\n",
       "      <td>0</td>\n",
       "      <td>2.0</td>\n",
       "    </tr>\n",
       "    <tr>\n",
       "      <th>879</th>\n",
       "      <td>Ogólnopolska Federacja Onkologiczna</td>\n",
       "      <td>Wybory'2025 - zadaliśmy pytania wszystkim kandydatkom i kandydatom na Prezydenta RP dotyczące ich potencjalnej aktywności w obszarze zdrowia w szczególności onkologii. Odpowiedzi będziemy publikować na naszej stronie.  https://t.co/PnzO0IZ8bY</td>\n",
       "      <td>Thu Apr 24 12:55:33 +0000 2025</td>\n",
       "      <td>0</td>\n",
       "      <td>3.0</td>\n",
       "    </tr>\n",
       "    <tr>\n",
       "      <th>880</th>\n",
       "      <td>Robert</td>\n",
       "      <td>@MarcinPalade 25 procent Nawrockiego w tym momencie kampanii to dramat. Jak on ma wygrać te wybory prezydenckie?</td>\n",
       "      <td>Wed Apr 23 11:25:12 +0000 2025</td>\n",
       "      <td>0</td>\n",
       "      <td>2.0</td>\n",
       "    </tr>\n",
       "    <tr>\n",
       "      <th>881</th>\n",
       "      <td>Super Express</td>\n",
       "      <td>Nie milkną echa po wystąpieniu Radosława Sikorskiego w Sejmie. Szef polskiej dyplomacji nawiązał  do kampanii prezydenckiej Rafała Trzaskowskiego. Za te słowa skrytykował go Andrzej Duda, szpilkę wbił również Szymon Hołownia. https://t.co/fl9jrLdWzG</td>\n",
       "      <td>Wed Apr 23 15:05:28 +0000 2025</td>\n",
       "      <td>1</td>\n",
       "      <td>2.0</td>\n",
       "    </tr>\n",
       "  </tbody>\n",
       "</table>\n",
       "<p>882 rows × 5 columns</p>\n",
       "</div>"
      ],
      "text/plain": [
       "                                    Name  \\\n",
       "0                                 Maja 🦋   \n",
       "1                        Marek Markowski   \n",
       "2                                 Krysia   \n",
       "3                 Rafał Gładysz ♠️♥️♣️♦️   \n",
       "4                              🇵🇱Polka🇵🇱   \n",
       "..                                   ...   \n",
       "877                           Nic o mnie   \n",
       "878                         Jan Kowalski   \n",
       "879  Ogólnopolska Federacja Onkologiczna   \n",
       "880                               Robert   \n",
       "881                        Super Express   \n",
       "\n",
       "                                                                                                                                                                                                                                                                                                               Text  \\\n",
       "0                        PiSiory ❗ Patałachy ❗ Szmaciarze ❗ Mam dla was, dwie wiadomości ⁉️  Złą ❗ bo Rafał Trzaskowski wygrywa w I turze 💪🤣  I drugą Złą ❗ Kończymy z Pisem 💪🤣  Prezydentem RP 2025 Rafał Trzaskowski ✌️🇵🇱 🥰 ♥️  Niedziela, 18 maja 2025 ! Głosujemy !!!  #Trzaskowski2025 https://t.co/nakyhPCeeU   \n",
       "1                                                                              Jak zablokować #RelokacjaTuska ? To proste wygrać wybory prezydenckie 2025 a następnie przyśpieszone wybory parlamentarne. Tusk, Bodnar, Giertych, Hołownia do więzienia i ogłaszamy koniec komuny w Polsce. https://t.co/02XQAcsEdG   \n",
       "2                                                                                                                                                       Taką mamy rzeczywistość- Polska 2025 z prezydentem Rafałem Trzaskowskim ✌️🇵🇱. 18maja 2025 głosujemy i wybieramy prezydenta Polski🇵🇱 https://t.co/JXhu6xldQe   \n",
       "3    Moje wymarzone wybory prezydenckie 2025? Do drugiej rundy wchodzą @SlawomirMentzen i @K_Stanowski i o fotel prezydenta grają jeden na jednego w pokera w transmitowanym przez wszystkie telewizje pojedynku 😎  A potem ten, który wygra, od razu po zaprzysiężeniu legalizuje pokera w https://t.co/JNUYXfSYDs   \n",
       "4                                                                                                                                                                                                                       18 maja 2025 r wszyscy na wybory 🗳️ #Prezydent2025 @NawrockiKn 🇵🇱♥️ https://t.co/tVKtyJkbc7   \n",
       "..                                                                                                                                                                                                                                                                                                              ...   \n",
       "877                                                                                                                                                                                                                       @ciorka77 jeszcze trzeba wygrać wybory prezydenckie  ale do tego jeszcze miesiąc, niecały   \n",
       "878                                                                                                                                                                                         @donaldtusk Niedługo wybory prezydenckie. Może lepiej będzie wysłać tam Rafała. Zrobi się kilka zdjęć, jakieś nagranie.   \n",
       "879                                                              Wybory'2025 - zadaliśmy pytania wszystkim kandydatkom i kandydatom na Prezydenta RP dotyczące ich potencjalnej aktywności w obszarze zdrowia w szczególności onkologii. Odpowiedzi będziemy publikować na naszej stronie.  https://t.co/PnzO0IZ8bY   \n",
       "880                                                                                                                                                                                                @MarcinPalade 25 procent Nawrockiego w tym momencie kampanii to dramat. Jak on ma wygrać te wybory prezydenckie?   \n",
       "881                                                       Nie milkną echa po wystąpieniu Radosława Sikorskiego w Sejmie. Szef polskiej dyplomacji nawiązał  do kampanii prezydenckiej Rafała Trzaskowskiego. Za te słowa skrytykował go Andrzej Duda, szpilkę wbił również Szymon Hołownia. https://t.co/fl9jrLdWzG   \n",
       "\n",
       "                           Retweets  Likes  Date  \n",
       "0                                45    132   NaN  \n",
       "1                               878   3159   NaN  \n",
       "2                                12     22   NaN  \n",
       "3                                15    843   NaN  \n",
       "4                                98    237   NaN  \n",
       "..                              ...    ...   ...  \n",
       "877  Sun Apr 27 06:20:47 +0000 2025      0   3.0  \n",
       "878  Mon Apr 21 19:46:35 +0000 2025      0   2.0  \n",
       "879  Thu Apr 24 12:55:33 +0000 2025      0   3.0  \n",
       "880  Wed Apr 23 11:25:12 +0000 2025      0   2.0  \n",
       "881  Wed Apr 23 15:05:28 +0000 2025      1   2.0  \n",
       "\n",
       "[882 rows x 5 columns]"
      ]
     },
     "execution_count": 14,
     "metadata": {},
     "output_type": "execute_result"
    }
   ],
   "source": [
    "# Pełne wyświetlanie\n",
    "import pandas as pd\n",
    "\n",
    "\n",
    "pd.set_option('display.max_colwidth', None)\n",
    "    \n",
    "df = pd.read_csv(\"_wybory2025.csv\")\n",
    "\n",
    "del df[\"Tweet_count\"]\n",
    "\n",
    "df"
   ]
  },
  {
   "cell_type": "markdown",
   "id": "8ddd4c96",
   "metadata": {},
   "source": [
    "Po załadowaniu pierwszej tabeli trzeba oczyścić dane z niepotrzebnych do tego projektu informacji.\n",
    "Co przez to rozumiem?\n",
    "    -> Kandydatów na Prezydenta bądź innych polityków\n",
    "    -> Dane pochodzące z kont prowadzonych przez sztaby\n",
    "    -> Tweety, które przedstawiają sondaże (do tego projektu są niepotrzebne)"
   ]
  },
  {
   "cell_type": "code",
   "execution_count": 15,
   "id": "fc6530b9",
   "metadata": {},
   "outputs": [],
   "source": [
    "with open(\"lista_kandydatow_i_sztaby\", \"r\", encoding=\"utf-8\") as file:\n",
    "    prezydent = file.readlines()\n",
    "\n",
    "with open(\"zabronione_konta\", \"a\", encoding=\"utf-8\") as file:\n",
    "    file.writelines(prezydent)"
   ]
  },
  {
   "cell_type": "code",
   "execution_count": 16,
   "id": "1e129675",
   "metadata": {},
   "outputs": [
    {
     "data": {
      "text/html": [
       "<div>\n",
       "<style scoped>\n",
       "    .dataframe tbody tr th:only-of-type {\n",
       "        vertical-align: middle;\n",
       "    }\n",
       "\n",
       "    .dataframe tbody tr th {\n",
       "        vertical-align: top;\n",
       "    }\n",
       "\n",
       "    .dataframe thead th {\n",
       "        text-align: right;\n",
       "    }\n",
       "</style>\n",
       "<table border=\"1\" class=\"dataframe\">\n",
       "  <thead>\n",
       "    <tr style=\"text-align: right;\">\n",
       "      <th></th>\n",
       "      <th>Name</th>\n",
       "      <th>Text</th>\n",
       "    </tr>\n",
       "  </thead>\n",
       "  <tbody>\n",
       "    <tr>\n",
       "      <th>0</th>\n",
       "      <td>Maja 🦋</td>\n",
       "      <td>PiSiory ❗ Patałachy ❗ Szmaciarze ❗ Mam dla was, dwie wiadomości ⁉️  Złą ❗ bo Rafał Trzaskowski wygrywa w I turze 💪🤣  I drugą Złą ❗ Kończymy z Pisem 💪🤣  Prezydentem RP 2025 Rafał Trzaskowski ✌️🇵🇱 🥰 ♥️  Niedziela, 18 maja 2025 ! Głosujemy !!!  #Trzaskowski2025 https://t.co/nakyhPCeeU</td>\n",
       "    </tr>\n",
       "    <tr>\n",
       "      <th>1</th>\n",
       "      <td>Marek Markowski</td>\n",
       "      <td>Jak zablokować #RelokacjaTuska ? To proste wygrać wybory prezydenckie 2025 a następnie przyśpieszone wybory parlamentarne. Tusk, Bodnar, Giertych, Hołownia do więzienia i ogłaszamy koniec komuny w Polsce. https://t.co/02XQAcsEdG</td>\n",
       "    </tr>\n",
       "    <tr>\n",
       "      <th>2</th>\n",
       "      <td>Krysia</td>\n",
       "      <td>Taką mamy rzeczywistość- Polska 2025 z prezydentem Rafałem Trzaskowskim ✌️🇵🇱. 18maja 2025 głosujemy i wybieramy prezydenta Polski🇵🇱 https://t.co/JXhu6xldQe</td>\n",
       "    </tr>\n",
       "    <tr>\n",
       "      <th>3</th>\n",
       "      <td>Rafał Gładysz ♠️♥️♣️♦️</td>\n",
       "      <td>Moje wymarzone wybory prezydenckie 2025? Do drugiej rundy wchodzą @SlawomirMentzen i @K_Stanowski i o fotel prezydenta grają jeden na jednego w pokera w transmitowanym przez wszystkie telewizje pojedynku 😎  A potem ten, który wygra, od razu po zaprzysiężeniu legalizuje pokera w https://t.co/JNUYXfSYDs</td>\n",
       "    </tr>\n",
       "    <tr>\n",
       "      <th>4</th>\n",
       "      <td>🇵🇱Polka🇵🇱</td>\n",
       "      <td>18 maja 2025 r wszyscy na wybory 🗳️ #Prezydent2025 @NawrockiKn 🇵🇱♥️ https://t.co/tVKtyJkbc7</td>\n",
       "    </tr>\n",
       "    <tr>\n",
       "      <th>...</th>\n",
       "      <td>...</td>\n",
       "      <td>...</td>\n",
       "    </tr>\n",
       "    <tr>\n",
       "      <th>877</th>\n",
       "      <td>Nic o mnie</td>\n",
       "      <td>@ciorka77 jeszcze trzeba wygrać wybory prezydenckie  ale do tego jeszcze miesiąc, niecały</td>\n",
       "    </tr>\n",
       "    <tr>\n",
       "      <th>878</th>\n",
       "      <td>Jan Kowalski</td>\n",
       "      <td>@donaldtusk Niedługo wybory prezydenckie. Może lepiej będzie wysłać tam Rafała. Zrobi się kilka zdjęć, jakieś nagranie.</td>\n",
       "    </tr>\n",
       "    <tr>\n",
       "      <th>879</th>\n",
       "      <td>Ogólnopolska Federacja Onkologiczna</td>\n",
       "      <td>Wybory'2025 - zadaliśmy pytania wszystkim kandydatkom i kandydatom na Prezydenta RP dotyczące ich potencjalnej aktywności w obszarze zdrowia w szczególności onkologii. Odpowiedzi będziemy publikować na naszej stronie.  https://t.co/PnzO0IZ8bY</td>\n",
       "    </tr>\n",
       "    <tr>\n",
       "      <th>880</th>\n",
       "      <td>Robert</td>\n",
       "      <td>@MarcinPalade 25 procent Nawrockiego w tym momencie kampanii to dramat. Jak on ma wygrać te wybory prezydenckie?</td>\n",
       "    </tr>\n",
       "    <tr>\n",
       "      <th>881</th>\n",
       "      <td>Super Express</td>\n",
       "      <td>Nie milkną echa po wystąpieniu Radosława Sikorskiego w Sejmie. Szef polskiej dyplomacji nawiązał  do kampanii prezydenckiej Rafała Trzaskowskiego. Za te słowa skrytykował go Andrzej Duda, szpilkę wbił również Szymon Hołownia. https://t.co/fl9jrLdWzG</td>\n",
       "    </tr>\n",
       "  </tbody>\n",
       "</table>\n",
       "<p>713 rows × 2 columns</p>\n",
       "</div>"
      ],
      "text/plain": [
       "                                    Name  \\\n",
       "0                                 Maja 🦋   \n",
       "1                        Marek Markowski   \n",
       "2                                 Krysia   \n",
       "3                 Rafał Gładysz ♠️♥️♣️♦️   \n",
       "4                              🇵🇱Polka🇵🇱   \n",
       "..                                   ...   \n",
       "877                           Nic o mnie   \n",
       "878                         Jan Kowalski   \n",
       "879  Ogólnopolska Federacja Onkologiczna   \n",
       "880                               Robert   \n",
       "881                        Super Express   \n",
       "\n",
       "                                                                                                                                                                                                                                                                                                               Text  \n",
       "0                        PiSiory ❗ Patałachy ❗ Szmaciarze ❗ Mam dla was, dwie wiadomości ⁉️  Złą ❗ bo Rafał Trzaskowski wygrywa w I turze 💪🤣  I drugą Złą ❗ Kończymy z Pisem 💪🤣  Prezydentem RP 2025 Rafał Trzaskowski ✌️🇵🇱 🥰 ♥️  Niedziela, 18 maja 2025 ! Głosujemy !!!  #Trzaskowski2025 https://t.co/nakyhPCeeU  \n",
       "1                                                                              Jak zablokować #RelokacjaTuska ? To proste wygrać wybory prezydenckie 2025 a następnie przyśpieszone wybory parlamentarne. Tusk, Bodnar, Giertych, Hołownia do więzienia i ogłaszamy koniec komuny w Polsce. https://t.co/02XQAcsEdG  \n",
       "2                                                                                                                                                       Taką mamy rzeczywistość- Polska 2025 z prezydentem Rafałem Trzaskowskim ✌️🇵🇱. 18maja 2025 głosujemy i wybieramy prezydenta Polski🇵🇱 https://t.co/JXhu6xldQe  \n",
       "3    Moje wymarzone wybory prezydenckie 2025? Do drugiej rundy wchodzą @SlawomirMentzen i @K_Stanowski i o fotel prezydenta grają jeden na jednego w pokera w transmitowanym przez wszystkie telewizje pojedynku 😎  A potem ten, który wygra, od razu po zaprzysiężeniu legalizuje pokera w https://t.co/JNUYXfSYDs  \n",
       "4                                                                                                                                                                                                                       18 maja 2025 r wszyscy na wybory 🗳️ #Prezydent2025 @NawrockiKn 🇵🇱♥️ https://t.co/tVKtyJkbc7  \n",
       "..                                                                                                                                                                                                                                                                                                              ...  \n",
       "877                                                                                                                                                                                                                       @ciorka77 jeszcze trzeba wygrać wybory prezydenckie  ale do tego jeszcze miesiąc, niecały  \n",
       "878                                                                                                                                                                                         @donaldtusk Niedługo wybory prezydenckie. Może lepiej będzie wysłać tam Rafała. Zrobi się kilka zdjęć, jakieś nagranie.  \n",
       "879                                                              Wybory'2025 - zadaliśmy pytania wszystkim kandydatkom i kandydatom na Prezydenta RP dotyczące ich potencjalnej aktywności w obszarze zdrowia w szczególności onkologii. Odpowiedzi będziemy publikować na naszej stronie.  https://t.co/PnzO0IZ8bY  \n",
       "880                                                                                                                                                                                                @MarcinPalade 25 procent Nawrockiego w tym momencie kampanii to dramat. Jak on ma wygrać te wybory prezydenckie?  \n",
       "881                                                       Nie milkną echa po wystąpieniu Radosława Sikorskiego w Sejmie. Szef polskiej dyplomacji nawiązał  do kampanii prezydenckiej Rafała Trzaskowskiego. Za te słowa skrytykował go Andrzej Duda, szpilkę wbił również Szymon Hołownia. https://t.co/fl9jrLdWzG  \n",
       "\n",
       "[713 rows x 2 columns]"
      ]
     },
     "execution_count": 16,
     "metadata": {},
     "output_type": "execute_result"
    }
   ],
   "source": [
    "# Pobranie i usunięcie niepotrzenych nazw użytkowników, które wcześniej\n",
    "# były wyscrapowane z Wikipedii\n",
    "with open(\"zabronione_konta\", \"r\", encoding=\"utf-8\") as file:\n",
    "    words_to_remove = [line.strip() for line in file if line.strip()]\n",
    "\n",
    "pattern = '|'.join(words_to_remove)\n",
    "df_filtered = df[~df['Name'].str.contains(pattern, case=False, na=False, regex=True)]\n",
    "\n",
    "# Usunięcie sondaży oraz zduplikowanych Tweetów\n",
    "df_filtered = df_filtered[~df_filtered['Text'].str.contains('%', na=False)]\n",
    "df_filtered = df_filtered.drop_duplicates()\n",
    "\n",
    "# Zapis nazw do późniejszej analizy płci\n",
    "df_filtered['Name'].to_excel(\"usernames.xlsx\", sheet_name=\"Second\")\n",
    "df_filtered = df_filtered.drop(columns=['Likes', 'Date', 'Retweets'])\n",
    "df_filtered"
   ]
  },
  {
   "cell_type": "markdown",
   "id": "a787dbdc",
   "metadata": {},
   "source": [
    "Pierwsza Analiza -> Analiza popularności kandydatów pod względem ilości wystąpień przy \"wybory prezydenckie 2025\"\n",
    "\n"
   ]
  },
  {
   "cell_type": "code",
   "execution_count": 17,
   "id": "5e6a53d8",
   "metadata": {},
   "outputs": [
    {
     "data": {
      "image/png": "[encoded data removed]",
      "text/plain": [
       "<Figure size 4000x600 with 1 Axes>"
      ]
     },
     "metadata": {},
     "output_type": "display_data"
    }
   ],
   "source": [
    "# Pobieranie z każdego wiersza \n",
    "with open(\"lista_kandydatow_i_sztaby\", \"r\", encoding=\"utf-8\") as f:\n",
    "    kandydaci = [l.strip() for l in f if l.strip()]\n",
    "\n",
    "# Liczenie popularności kandydatów \n",
    "counts = {\n",
    "    k: df['Text'].str.contains(k, case=False, na=False).sum()\n",
    "    for k in kandydaci\n",
    "}\n",
    "\n",
    "counts_for_bar = {}\n",
    "\n",
    "# Wybranie z pliku .txt tylko kandydatów na prezydenta \n",
    "for i, key in enumerate(counts):\n",
    "    if i >= 10:\n",
    "        break\n",
    "    else:\n",
    "        counts_for_bar.update({ key: counts[key]})\n",
    "\n",
    "# Sortowanie od najczęstszych do najmniej występujących \n",
    "counts_for_bar = sorted(counts_for_bar.items(), key=lambda kv: kv[1], reverse=True)\n",
    "counts_for_bar = dict(counts_for_bar)\n",
    "\n",
    "name_of_candidats = list(counts_for_bar.keys())\n",
    "popularity = list(counts_for_bar.values())\n",
    "\n",
    "# Wizualiazcja popularności wspomnień kandydatów\n",
    "plt.figure(figsize=(40,6))\n",
    "plt.bar(name_of_candidats, popularity, color=\"green\")\n",
    "plt.xlabel(\"Kandydat\")\n",
    "plt.ylabel(\"Liczebność wystąpień\")\n",
    "\n",
    "plt.show()"
   ]
  },
  {
   "cell_type": "markdown",
   "id": "43179054",
   "metadata": {},
   "source": [
    "Druga Analiza -> Model, który będzie predyktować płeć użytkownika z nazwy"
   ]
  },
  {
   "cell_type": "markdown",
   "id": "6f3bffbc",
   "metadata": {},
   "source": [
    "Krok 1. Przygotować dane pod model klasyfikacji"
   ]
  },
  {
   "cell_type": "code",
   "execution_count": 18,
   "id": "0909e8cf",
   "metadata": {},
   "outputs": [],
   "source": [
    "# Odczyt danych\n",
    "df_gender = pd.read_excel(r\"C:\\Users\\wikto\\OneDrive\\Dokumenty\\ML\\usernames_with_gender2.xlsx\")\n",
    "df_gender = df_gender.loc[:,~df_gender.columns.str.contains('Unnamed')]"
   ]
  },
  {
   "cell_type": "code",
   "execution_count": 19,
   "id": "2c4ff9c6",
   "metadata": {},
   "outputs": [
    {
     "name": "stdout",
     "output_type": "stream",
     "text": [
      "<Compressed Sparse Row sparse matrix of dtype 'int64'\n",
      "\twith 7 stored elements and shape (5, 711)>\n",
      "  Coords\tValues\n",
      "  (0, 325)\t1\n",
      "  (1, 334)\t1\n",
      "  (1, 340)\t1\n",
      "  (2, 281)\t1\n",
      "  (3, 487)\t1\n",
      "  (3, 190)\t1\n",
      "  (4, 457)\t1\n",
      "[[0 0 0 ... 0 0 0]\n",
      " [0 0 0 ... 0 0 0]\n",
      " [0 0 0 ... 0 0 0]\n",
      " [0 0 0 ... 0 0 0]\n",
      " [0 0 0 ... 0 0 0]]\n",
      "[('maja', 325), ('marek', 334), ('markowski', 340), ('krysia', 281), ('rafał', 487)]\n",
      "['09' '11' '12' '1973' '2013']\n"
     ]
    }
   ],
   "source": [
    "cv = CountVectorizer()\n",
    "X = cv.fit_transform(df_gender['Name']) # Zamienia wystąpienia słów na ilość\n",
    "\n",
    "# Krótka wizualizacja 5 pierwszych X\n",
    "print(X[:5]) # Cords(0,102) -> (wiersz,kolumna); Values -> wartość w tym miejscu\n",
    "print(X.toarray()[:5]) # zamiana powyższej tablicy na tablicę\n",
    "print(list(cv.vocabulary_.items())[:5]) # dict. ilość pojawiających się słów\n",
    "print(cv.get_feature_names_out()[:5])\n",
    "\n",
    "y = df_gender.Class\n"
   ]
  },
  {
   "cell_type": "code",
   "execution_count": 20,
   "id": "72e6dfcf",
   "metadata": {},
   "outputs": [],
   "source": [
    "# Train, test split dla modelu klasyfikacji\n",
    "X_train, X_test, y_train, y_test = train_test_split(X, y, train_size=0.8, random_state=123)"
   ]
  },
  {
   "cell_type": "code",
   "execution_count": 21,
   "id": "218acbea",
   "metadata": {},
   "outputs": [
    {
     "name": "stdout",
     "output_type": "stream",
     "text": [
      "Trafność modelu (logistic regression):  80.0 %\n"
     ]
    }
   ],
   "source": [
    "# Stworzenia modelu klasyfikacji (logistic regression)\n",
    "from sklearn.linear_model import LogisticRegression\n",
    "\n",
    "alg = LogisticRegression(random_state=123)\n",
    "alg.fit(X_train, y_train)\n",
    "\n",
    "y_pred = alg.predict(X_test)\n",
    "\n",
    "# Accuracy of our Model\n",
    "print(\"Trafność modelu (logistic regression): \",round(alg.score(X_test,y_test),1)*100,\"%\")"
   ]
  },
  {
   "cell_type": "markdown",
   "id": "50043f02",
   "metadata": {},
   "source": [
    "Trzecia analiza -> Ile mężczyzn, kobiet, oraz kanałów informacyjnych udziela się na Tweeterze?"
   ]
  },
  {
   "cell_type": "code",
   "execution_count": 22,
   "id": "1c3e2924",
   "metadata": {},
   "outputs": [
    {
     "name": "stdout",
     "output_type": "stream",
     "text": [
      "Ilosc wpisów mężczyzn: 336, kobiet: 131, kanałów informacyjnych: 232\n"
     ]
    },
    {
     "data": {
      "text/plain": [
       "Text(0, 0.5, 'How many Tweets')"
      ]
     },
     "execution_count": 22,
     "metadata": {},
     "output_type": "execute_result"
    },
    {
     "data": {
      "image/png": "[encoded data removed]",
      "text/plain": [
       "<Figure size 640x480 with 1 Axes>"
      ]
     },
     "metadata": {},
     "output_type": "display_data"
    }
   ],
   "source": [
    "men_twitter = df_gender[df_gender.Class == 'm']\n",
    "women_twitter = df_gender[df_gender.Class == 'w']\n",
    "news_twitter = df_gender[df_gender.Class == 'n']\n",
    "\n",
    "gender_how_many = {\"men\": len(men_twitter),\"women\": len(women_twitter), \"news\": len(news_twitter)}\n",
    "gender = list(gender_how_many.keys())\n",
    "gender_value = list(gender_how_many.values())\n",
    "\n",
    "print(f\"Ilosc wpisów mężczyzn: {len(men_twitter)}, kobiet: {len(women_twitter)}, kanałów informacyjnych: {len(news_twitter)}\")\n",
    "\n",
    "# Wykres \n",
    "plt.bar(gender, gender_value)\n",
    "plt.xlabel(\"Class\")\n",
    "plt.ylabel(\"How many Tweets\")"
   ]
  },
  {
   "cell_type": "markdown",
   "id": "d79d3041",
   "metadata": {},
   "source": [
    "Z tego wykresu widać, że najwięcej użytkowników stanowią mężczyźni, później kanały informacyjne i na koniec kobiety"
   ]
  }
 ],
 "metadata": {
  "kernelspec": {
   "display_name": "election_scrapper",
   "language": "python",
   "name": "python3"
  },
  "language_info": {
   "codemirror_mode": {
    "name": "ipython",
    "version": 3
   },
   "file_extension": ".py",
   "mimetype": "text/x-python",
   "name": "python",
   "nbconvert_exporter": "python",
   "pygments_lexer": "ipython3",
   "version": "3.11.0"
  }
 },
 "nbformat": 4,
 "nbformat_minor": 5
}
